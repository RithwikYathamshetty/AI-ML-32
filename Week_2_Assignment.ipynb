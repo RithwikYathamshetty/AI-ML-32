{
  "nbformat": 4,
  "nbformat_minor": 0,
  "metadata": {
    "colab": {
      "provenance": []
    },
    "kernelspec": {
      "name": "python3",
      "display_name": "Python 3"
    },
    "language_info": {
      "name": "python"
    }
  },
  "cells": [
    {
      "cell_type": "code",
      "execution_count": null,
      "metadata": {
        "colab": {
          "base_uri": "https://localhost:8080/"
        },
        "id": "qXcWbOaBUxdz",
        "outputId": "66b3e980-a855-4470-98d8-05ffae41dbd1"
      },
      "outputs": [
        {
          "output_type": "stream",
          "name": "stdout",
          "text": [
            "BFS Traversal:\n",
            "0 1 3 2 5 4 "
          ]
        }
      ],
      "source": [
        "#Week 2 Assignment\n",
        "\n",
        "#Part 1 – Implement Breadth First Search Algorithm using a Queue\n",
        "from collections import defaultdict\n",
        "graph = {\n",
        "    0: [1, 3],\n",
        "    1: [0, 2, 5],\n",
        "    2: [1],\n",
        "    3: [0, 4],\n",
        "    4: [3, 5],\n",
        "    5: [1, 4]\n",
        "}\n",
        "def bfs_traversal(graph, start):\n",
        "    visited = set()\n",
        "    queue = [start]\n",
        "    visited.add(start)\n",
        "    while queue:\n",
        "        vertex = queue.pop(0)\n",
        "        print(vertex, end=\" \")\n",
        "        for neighbor in graph[vertex]:\n",
        "            if neighbor not in visited:\n",
        "                queue.append(neighbor)\n",
        "                visited.add(neighbor)\n",
        "start_vertex = 0\n",
        "print(\"BFS Traversal:\")\n",
        "bfs_traversal(graph, start_vertex)"
      ]
    },
    {
      "cell_type": "code",
      "source": [
        "#Part 2 – Implement Depth First Search Algorithm using a Stack\n",
        "\n",
        "from collections import defaultdict\n",
        "def dfs_stack(graph, start):\n",
        "    visited = set()\n",
        "    stack = [start]\n",
        "    while stack:\n",
        "        vertex = stack.pop()\n",
        "        if vertex not in visited:\n",
        "            print(vertex, end=\" \")\n",
        "            visited.add(vertex)\n",
        "            for neighbor in reversed(graph[vertex]):\n",
        "                stack.append(neighbor)\n",
        "graph = defaultdict(list)\n",
        "graph['a'] = ['b', 's']\n",
        "graph['b'] = ['a', 'c']\n",
        "graph['c'] = ['b', 'd', 'e', 'f']\n",
        "graph['d'] = ['c']\n",
        "graph['e'] = ['c', 'f', 'g']\n",
        "graph['f'] = ['c', 'e', 'h']\n",
        "graph['g'] = ['e', 'h']\n",
        "graph['h'] = ['f', 'g']\n",
        "graph['s'] = ['a', 'g']\n",
        "start_vertex = 'a'\n",
        "print(\"DFS Traversal:\")\n",
        "dfs_stack(graph, start_vertex)"
      ],
      "metadata": {
        "colab": {
          "base_uri": "https://localhost:8080/"
        },
        "id": "vrwb0QKMVWPJ",
        "outputId": "7194a5a7-1097-4498-a13a-7c1874bef63c"
      },
      "execution_count": null,
      "outputs": [
        {
          "output_type": "stream",
          "name": "stdout",
          "text": [
            "DFS Traversal:\n",
            "a b c d e f h g s "
          ]
        }
      ]
    },
    {
      "cell_type": "code",
      "source": [
        "#Part 3 – Implement A* Algorithm using Numpy\n",
        "\n",
        "from heapq import heappush, heappop\n",
        "initial_state = ((2, 8, 3), (1, 6, 4), (7, 0, 5))\n",
        "final_state = ((1, 2, 3), (8, 0, 4), (7, 6, 5))\n",
        "def heuristic(state):\n",
        "    distance = 0\n",
        "    for i in range(3):\n",
        "        for j in range(3):\n",
        "            value = state[i][j]\n",
        "            if value != 0:\n",
        "                goal_row, goal_col = (value - 1) // 3, (value - 1) % 3\n",
        "                distance += abs(i - goal_row) + abs(j - goal_col)\n",
        "    return distance\n",
        "def astar(initial_state, final_state):\n",
        "    open_list = []\n",
        "    closed_set = set()\n",
        "    heappush(open_list, (0 + heuristic(initial_state), 0, initial_state))\n",
        "    while open_list:\n",
        "        _, g_score, current_state = heappop(open_list)\n",
        "        if current_state == final_state:\n",
        "            return current_state\n",
        "        closed_set.add(current_state)\n",
        "        zero_row, zero_col = -1, -1\n",
        "        for i in range(3):\n",
        "            for j in range(3):\n",
        "                if current_state[i][j] == 0:\n",
        "                    zero_row, zero_col = i, j\n",
        "                    break\n",
        "            if zero_row != -1:\n",
        "                break\n",
        "        for dr, dc in [(0, 1), (1, 0), (0, -1), (-1, 0)]:\n",
        "            new_row, new_col = zero_row + dr, zero_col + dc\n",
        "            if 0 <= new_row < 3 and 0 <= new_col < 3:\n",
        "                new_state = list(map(list, current_state))\n",
        "                new_state[zero_row][zero_col], new_state[new_row][new_col] = new_state[new_row][new_col], new_state[zero_row][zero_col]\n",
        "                new_state = tuple(map(tuple, new_state))\n",
        "                if new_state not in closed_set:\n",
        "                    heappush(open_list, (g_score + 1 + heuristic(new_state), g_score + 1, new_state))\n",
        "    return None\n",
        "result = astar(initial_state, final_state)\n",
        "if result is not None:\n",
        "    print(\"Solution Found:\")\n",
        "    for row in result:\n",
        "        print(row)\n",
        "else:\n",
        "    print(\"No Solution Found.\")"
      ],
      "metadata": {
        "colab": {
          "base_uri": "https://localhost:8080/"
        },
        "id": "YXG5-TGfXCXb",
        "outputId": "ee4d2d57-2e0f-44f0-cff3-8a63d28a1d80"
      },
      "execution_count": null,
      "outputs": [
        {
          "output_type": "stream",
          "name": "stdout",
          "text": [
            "Solution Found:\n",
            "(1, 2, 3)\n",
            "(8, 0, 4)\n",
            "(7, 6, 5)\n"
          ]
        }
      ]
    }
  ]
}