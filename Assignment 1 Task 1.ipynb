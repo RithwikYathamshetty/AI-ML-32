{
  "nbformat": 4,
  "nbformat_minor": 0,
  "metadata": {
    "colab": {
      "provenance": []
    },
    "kernelspec": {
      "name": "python3",
      "display_name": "Python 3"
    },
    "language_info": {
      "name": "python"
    }
  },
  "cells": [
    {
      "cell_type": "code",
      "execution_count": null,
      "metadata": {
        "colab": {
          "base_uri": "https://localhost:8080/"
        },
        "id": "8s4ZxgUpLAtO",
        "outputId": "7962ceae-20ea-4fcb-8979-99e36837ccb7"
      },
      "outputs": [
        {
          "output_type": "stream",
          "name": "stdout",
          "text": [
            "Type of l1: <class 'list'>\n",
            "Type of arr1: <class 'numpy.ndarray'>\n"
          ]
        }
      ],
      "source": [
        "#Assignment 1 Task 1\n",
        "import numpy as np\n",
        "import pandas as pd\n",
        "l1 = [1, 2, 3, 4, 5]\n",
        "l2 = [6, 7, 8, 9, 10]\n",
        "arr1 = np.array(l1)\n",
        "arr2 = np.array(l2)\n",
        "print(\"Type of l1:\", type(l1))\n",
        "print(\"Type of arr1:\", type(arr1))"
      ]
    },
    {
      "cell_type": "code",
      "source": [
        "result_mul = arr1 * arr2\n",
        "result_div = arr1 / arr2\n",
        "result_pow = arr1 ** arr2\n",
        "print(\"Multiplication Result:\", result_mul)\n",
        "print(\"Division Result:\", result_div)\n",
        "print(\"Power Result:\", result_pow)"
      ],
      "metadata": {
        "colab": {
          "base_uri": "https://localhost:8080/"
        },
        "id": "nOI71sMKMu1T",
        "outputId": "f6c6d7cb-2e4d-4a73-8845-fc8f19275b72"
      },
      "execution_count": null,
      "outputs": [
        {
          "output_type": "stream",
          "name": "stdout",
          "text": [
            "Multiplication Result: [ 6 14 24 36 50]\n",
            "Division Result: [0.16666667 0.28571429 0.375      0.44444444 0.5       ]\n",
            "Power Result: [      1     128    6561  262144 9765625]\n"
          ]
        }
      ]
    },
    {
      "cell_type": "code",
      "source": [
        "# Combine text with NumPy function\n",
        "text_output = np.char.add(\"Addition of Two: \", np.char.add(str(arr1), str(arr2)))\n",
        "print(text_output)"
      ],
      "metadata": {
        "colab": {
          "base_uri": "https://localhost:8080/"
        },
        "id": "s3_iL6DzM8Nk",
        "outputId": "e6d0ad35-c35e-4776-e242-f93141b3184a"
      },
      "execution_count": null,
      "outputs": [
        {
          "output_type": "stream",
          "name": "stdout",
          "text": [
            "Addition of Two: [1 2 3 4 5][ 6  7  8  9 10]\n"
          ]
        }
      ]
    },
    {
      "cell_type": "code",
      "source": [
        "# NumPy functions\n",
        "sin_vals = np.sin(arr1)\n",
        "log_vals = np.log(arr1)\n",
        "log2_vals = np.log2(arr1)\n",
        "exp_vals = np.exp(arr1)\n",
        "print(\"sin(arr1):\", sin_vals)\n",
        "print(\"log(arr1):\", log_vals)\n",
        "print(\"log2(arr1):\", log2_vals)\n",
        "print(\"exp(arr1):\", exp_vals)"
      ],
      "metadata": {
        "colab": {
          "base_uri": "https://localhost:8080/"
        },
        "id": "Jj_9plkcM-gE",
        "outputId": "f0e6178e-f4cd-4448-9306-ff07fe600a51"
      },
      "execution_count": null,
      "outputs": [
        {
          "output_type": "stream",
          "name": "stdout",
          "text": [
            "sin(arr1): [ 0.84147098  0.90929743  0.14112001 -0.7568025  -0.95892427]\n",
            "log(arr1): [0.         0.69314718 1.09861229 1.38629436 1.60943791]\n",
            "log2(arr1): [0.         1.         1.5849625  2.         2.32192809]\n",
            "exp(arr1): [  2.71828183   7.3890561   20.08553692  54.59815003 148.4131591 ]\n"
          ]
        }
      ]
    },
    {
      "cell_type": "code",
      "source": [
        "# Creating DataFrames using Pandas\n",
        "df = pd.DataFrame({'c1': arr1, 'c2': arr2})\n",
        "print(\"\\nDataFrame:\")\n",
        "print(df)"
      ],
      "metadata": {
        "colab": {
          "base_uri": "https://localhost:8080/"
        },
        "id": "5FdysbYJNU9N",
        "outputId": "fc18950d-6579-4a3f-d9c7-385adaabbbea"
      },
      "execution_count": null,
      "outputs": [
        {
          "output_type": "stream",
          "name": "stdout",
          "text": [
            "\n",
            "DataFrame:\n",
            "   c1  c2\n",
            "0   1   6\n",
            "1   2   7\n",
            "2   3   8\n",
            "3   4   9\n",
            "4   5  10\n"
          ]
        }
      ]
    }
  ]
}