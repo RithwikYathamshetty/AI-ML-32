{
  "nbformat": 4,
  "nbformat_minor": 0,
  "metadata": {
    "colab": {
      "provenance": []
    },
    "kernelspec": {
      "name": "python3",
      "display_name": "Python 3"
    },
    "language_info": {
      "name": "python"
    }
  },
  "cells": [
    {
      "cell_type": "code",
      "execution_count": null,
      "metadata": {
        "colab": {
          "base_uri": "https://localhost:8080/"
        },
        "id": "mtLmI_xk2JYE",
        "outputId": "786de131-0465-4bd5-f8fe-61de40495c9b"
      },
      "outputs": [
        {
          "output_type": "stream",
          "name": "stdout",
          "text": [
            "       name  age  height  weight\n",
            "0   rithwik   19     145      46\n",
            "1    vishal   21     151      50\n",
            "2    harsha   25     170      76\n",
            "3    ramesh   30     163      61\n",
            "4    pranav   18     170      50\n",
            "5  thrishal   31     160      70\n",
            "6     dixit   27     152      60\n",
            "7    vamshi   21     170      34\n",
            "8    kushal   23     156      43\n"
          ]
        }
      ],
      "source": [
        "#Assignment 1 Task 3\n",
        "import pandas as pd\n",
        "#Excel file\n",
        "data_excel = pd.read_excel('/content/dataset.xlsx')\n",
        "print(data_excel)"
      ]
    },
    {
      "cell_type": "code",
      "source": [
        "#CSV file\n",
        "data_csv = pd.read_csv('/content/dataset.csv')\n",
        "print(data_csv)"
      ],
      "metadata": {
        "colab": {
          "base_uri": "https://localhost:8080/"
        },
        "id": "P52WOC9L3szF",
        "outputId": "befabf70-9ac0-432e-96ec-f502d9d2a5e3"
      },
      "execution_count": null,
      "outputs": [
        {
          "output_type": "stream",
          "name": "stdout",
          "text": [
            "       name  age  height  weight\n",
            "0   rithwik   19     145      46\n",
            "1    vishal   21     151      50\n",
            "2    harsha   25     170      76\n",
            "3    ramesh   30     163      61\n",
            "4    pranav   18     170      50\n",
            "5  thrishal   31     160      70\n",
            "6     dixit   27     152      60\n",
            "7    vamshi   21     170      34\n",
            "8    kushal   23     156      43\n"
          ]
        }
      ]
    },
    {
      "cell_type": "code",
      "source": [
        "#TSV file(Tab-separated values)\n",
        "data_tsv = pd.read_csv('/content/dataset.tsv', sep='\\t')\n",
        "print(data_tsv)"
      ],
      "metadata": {
        "colab": {
          "base_uri": "https://localhost:8080/"
        },
        "id": "H9J3yPR34KOR",
        "outputId": "e3018e9c-0b65-439b-fbd6-43ba108863e7"
      },
      "execution_count": null,
      "outputs": [
        {
          "output_type": "stream",
          "name": "stdout",
          "text": [
            "  name        age height weight\n",
            "0  rithwik     20   156      55\n",
            "1  vishal      21   151      50\n",
            "2  harsha      25   170      76\n",
            "3  ramesh      30   163      61\n",
            "4  pranav      18   170      50\n",
            "5  thrishal    31   160      70\n",
            "6  dixit       27   152      60\n",
            "7  vamshi      21   170      34\n",
            "8  kushal      23   156      43\n"
          ]
        }
      ]
    },
    {
      "cell_type": "code",
      "source": [
        "#Read data from URL\n",
        "url = 'https://raw.githubusercontent.com/RithwikYathamshetty/AI-ML-32/main/dataset.csv'\n",
        "df_url = pd.read_csv(url)\n",
        "print(\"\\nData from URL:\")\n",
        "print(df_url)"
      ],
      "metadata": {
        "colab": {
          "base_uri": "https://localhost:8080/"
        },
        "id": "NFgpA8LR4S8n",
        "outputId": "cadaff9e-e500-4fd4-e27b-d845073adb8a"
      },
      "execution_count": null,
      "outputs": [
        {
          "output_type": "stream",
          "name": "stdout",
          "text": [
            "\n",
            "Data from URL:\n",
            "       name  age  height  weight\n",
            "0   rithwik   19     145      46\n",
            "1    vishal   21     151      50\n",
            "2    harsha   25     170      76\n",
            "3    ramesh   30     163      61\n",
            "4    pranav   18     170      50\n",
            "5  thrishal   31     160      70\n",
            "6     dixit   27     152      60\n",
            "7    vamshi   21     170      34\n",
            "8    kushal   23     156      43\n"
          ]
        }
      ]
    }
  ]
}